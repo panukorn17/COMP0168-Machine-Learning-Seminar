{
 "cells": [
  {
   "cell_type": "markdown",
   "metadata": {},
   "source": [
    "# Approximate Gaussian Processes"
   ]
  },
  {
   "cell_type": "code",
   "execution_count": 2,
   "metadata": {},
   "outputs": [
    {
     "data": {
      "text/html": [
       "<script>\n",
       "code_show=true; \n",
       "function code_toggle() {\n",
       " if (code_show){\n",
       " $('.cm-comment:contains(@hidden)').closest('div.input').hide();\n",
       " } else {\n",
       " $('.cm-comment:contains(@hidden)').closest('div.input').show();\n",
       " }\n",
       " code_show = !code_show\n",
       "} \n",
       "$( document ).ready(code_toggle);\n",
       "</script>\n",
       "The raw code for this IPython notebook is by default hidden for easier reading.\n",
       "To toggle on/off the raw code, click <a href=\"javascript:code_toggle()\">here</a>."
      ],
      "text/plain": [
       "<IPython.core.display.HTML object>"
      ]
     },
     "execution_count": 2,
     "metadata": {},
     "output_type": "execute_result"
    }
   ],
   "source": [
    "# @hidden\n",
    "from IPython.display import HTML\n",
    "HTML('''<script>\n",
    "code_show=true; \n",
    "function code_toggle() {\n",
    " if (code_show){\n",
    " $('.cm-comment:contains(@hidden)').closest('div.input').hide();\n",
    " } else {\n",
    " $('.cm-comment:contains(@hidden)').closest('div.input').show();\n",
    " }\n",
    " code_show = !code_show\n",
    "} \n",
    "$( document ).ready(code_toggle);\n",
    "</script>\n",
    "The raw code for this IPython notebook is by default hidden for easier reading.\n",
    "To toggle on/off the raw code, click <a href=\"javascript:code_toggle()\">here</a>.''')"
   ]
  },
  {
   "cell_type": "markdown",
   "metadata": {},
   "source": [
    "# Bayesian Inference"
   ]
  },
  {
   "cell_type": "markdown",
   "metadata": {},
   "source": [
    "**Objective:** For a set of observations $y_i = f(x_i) + \\epsilon$, $\\epsilon \\sim N(0, \\sigma^2_n)$, <span style=\"color:red\">**find the posterior distribution over functions text**</span> $p(f(\\cdot)|x,y)$ that explains the data.<br>"
   ]
  },
  {
   "cell_type": "markdown",
   "metadata": {},
   "source": [
    "**Bayes Theorem**:"
   ]
  },
  {
   "cell_type": "code",
   "execution_count": 61,
   "metadata": {},
   "outputs": [
    {
     "data": {
      "text/html": [
       "\n",
       "<script>\n",
       "$('.BayesPost').hover(\n",
       "  function(){\n",
       "        $('.BayesPost').css({\"background\":\"white\", \"color\":\"blue\"});\n",
       "  },function(){\n",
       "        $('.BayesPost').css({\"background\":\"white\", \"color\":\"black\"});\n",
       "});\n",
       "$('.BayesLike').hover(\n",
       "  function(){\n",
       "        $('.BayesLike').css({\"background\":\"white\", \"color\":\"#0cb500\"});\n",
       "  },function(){\n",
       "        $('.BayesLike').css({\"background\":\"white\", \"color\":\"black\"});\n",
       "});\n",
       "$('.BayesPrior').hover(\n",
       "  function(){\n",
       "        $('.BayesPrior').css({\"background\":\"white\", \"color\":\"red\"});\n",
       "  },function(){\n",
       "        $('.BayesPrior').css({\"background\":\"white\", \"color\":\"black\"});\n",
       "});\n",
       "$('.BayesMarg').hover(\n",
       "  function(){\n",
       "        $('.BayesMarg').css({\"background\":\"white\", \"color\":\"#ff7b00\"});\n",
       "  },function(){\n",
       "        $('.BayesMarg').css({\"background\":\"white\", \"color\":\"black\"});\n",
       "});\n",
       "</script>\n",
       "<table  style=\"margin-left: auto; margin-right: auto;font-size:16px\">\n",
       "    <tr style=\"background-color:white;\">\n",
       "        <td rowspan = 2 class=\"BayesPost\">$$p(f|x,y)$$</td>\n",
       "        <td rowspan = 2 >$$=$$</td>\n",
       "        <td style = \"border-bottom: 1px solid #000;padding: 0px 7px;\" class=\"BayesLike\">$$p(y|f)$$</td>\n",
       "        <td style = \"border-bottom: 1px solid #000;padding: 0px 7px;\" class=\"BayesPrior\">$$p(f)$$</td>\n",
       "    </tr>\n",
       "    <tr style=\"background-color:white;\">\n",
       "        <td colspan = 2 class=\"BayesMarg\">$$\\qquad p(y)$$</td>\n",
       "    </tr>\n",
       "</table>"
      ],
      "text/plain": [
       "<IPython.core.display.HTML object>"
      ]
     },
     "execution_count": 61,
     "metadata": {},
     "output_type": "execute_result"
    }
   ],
   "source": [
    "#@hidden\n",
    "HTML('''\n",
    "<script>\n",
    "$('.BayesPost').hover(\n",
    "  function(){\n",
    "        $('.BayesPost').css({\"background\":\"white\", \"color\":\"blue\"});\n",
    "  },function(){\n",
    "        $('.BayesPost').css({\"background\":\"white\", \"color\":\"black\"});\n",
    "});\n",
    "$('.BayesLike').hover(\n",
    "  function(){\n",
    "        $('.BayesLike').css({\"background\":\"white\", \"color\":\"#0cb500\"});\n",
    "  },function(){\n",
    "        $('.BayesLike').css({\"background\":\"white\", \"color\":\"black\"});\n",
    "});\n",
    "$('.BayesPrior').hover(\n",
    "  function(){\n",
    "        $('.BayesPrior').css({\"background\":\"white\", \"color\":\"red\"});\n",
    "  },function(){\n",
    "        $('.BayesPrior').css({\"background\":\"white\", \"color\":\"black\"});\n",
    "});\n",
    "$('.BayesMarg').hover(\n",
    "  function(){\n",
    "        $('.BayesMarg').css({\"background\":\"white\", \"color\":\"#ff7b00\"});\n",
    "  },function(){\n",
    "        $('.BayesMarg').css({\"background\":\"white\", \"color\":\"black\"});\n",
    "});\n",
    "</script>\n",
    "<table  style=\"margin-left: auto; margin-right: auto;font-size:16px\">\n",
    "    <tr style=\"background-color:white;\">\n",
    "        <td rowspan = 2 class=\"BayesPost\">$$p(f|x,y)$$</td>\n",
    "        <td rowspan = 2 >$$=$$</td>\n",
    "        <td style = \"border-bottom: 1px solid #000;padding: 0px 7px;\" class=\"BayesLike\">$$p(y|f)$$</td>\n",
    "        <td style = \"border-bottom: 1px solid #000;padding: 0px 7px;\" class=\"BayesPrior\">$$p(f)$$</td>\n",
    "    </tr>\n",
    "    <tr style=\"background-color:white;\">\n",
    "        <td colspan = 2 class=\"BayesMarg\">$$\\qquad p(y)$$</td>\n",
    "    </tr>\n",
    "</table>''')"
   ]
  },
  {
   "cell_type": "markdown",
   "metadata": {},
   "source": [
    "## Bayesian Inference in Gaussian Processes (GPs):"
   ]
  },
  {
   "cell_type": "code",
   "execution_count": 65,
   "metadata": {},
   "outputs": [
    {
     "data": {
      "text/html": [
       "\n",
       "<script>\n",
       "$('.BayesPost').hover(\n",
       "  function(){\n",
       "        $('.BayesPost').css({\"background\":\"white\", \"color\":\"blue\"});\n",
       "  },function(){\n",
       "        $('.BayesPost').css({\"background\":\"white\", \"color\":\"black\"});\n",
       "});\n",
       "$('.BayesLike').hover(\n",
       "  function(){\n",
       "        $('.BayesLike').css({\"background\":\"white\", \"color\":\"#0cb500\"});\n",
       "  },function(){\n",
       "        $('.BayesLike').css({\"background\":\"white\", \"color\":\"black\"});\n",
       "});\n",
       "$('.BayesPrior').hover(\n",
       "  function(){\n",
       "        $('.BayesPrior').css({\"background\":\"white\", \"color\":\"red\"});\n",
       "  },function(){\n",
       "        $('.BayesPrior').css({\"background\":\"white\", \"color\":\"black\"});\n",
       "});\n",
       "$('.BayesMarg').hover(\n",
       "  function(){\n",
       "        $('.BayesMarg').css({\"background\":\"white\", \"color\":\"#ff7b00\"});\n",
       "  },function(){\n",
       "        $('.BayesMarg').css({\"background\":\"white\", \"color\":\"black\"});\n",
       "});\n",
       "</script>\n",
       "<table  style=\"margin-left: auto; margin-right: auto;font-size:16px\">\n",
       "    <tr style=\"background-color:white;\">\n",
       "        <td rowspan = 2 class=\"BayesPost\">$$p(f, f^*|y)$$</td>\n",
       "        <td rowspan = 2 >$$=$$</td>\n",
       "        <td style = \"border-bottom: 1px solid #000;padding: 0px 7px;\" class=\"BayesLike\">$$p(y|f)$$</td>\n",
       "        <td style = \"border-bottom: 1px solid #000;padding: 0px 7px;\" class=\"BayesPrior\">$$p(f, f^*)$$</td>\n",
       "    </tr>\n",
       "    <tr style=\"background-color:white;\">\n",
       "        <td colspan = 2 class=\"BayesMarg\">$$\\qquad p(y)$$</td>\n",
       "    </tr>\n",
       "</table>"
      ],
      "text/plain": [
       "<IPython.core.display.HTML object>"
      ]
     },
     "execution_count": 65,
     "metadata": {},
     "output_type": "execute_result"
    }
   ],
   "source": [
    "#@hidden\n",
    "HTML('''\n",
    "<script>\n",
    "$('.BayesPost').hover(\n",
    "  function(){\n",
    "        $('.BayesPost').css({\"background\":\"white\", \"color\":\"blue\"});\n",
    "  },function(){\n",
    "        $('.BayesPost').css({\"background\":\"white\", \"color\":\"black\"});\n",
    "});\n",
    "$('.BayesLike').hover(\n",
    "  function(){\n",
    "        $('.BayesLike').css({\"background\":\"white\", \"color\":\"#0cb500\"});\n",
    "  },function(){\n",
    "        $('.BayesLike').css({\"background\":\"white\", \"color\":\"black\"});\n",
    "});\n",
    "$('.BayesPrior').hover(\n",
    "  function(){\n",
    "        $('.BayesPrior').css({\"background\":\"white\", \"color\":\"red\"});\n",
    "  },function(){\n",
    "        $('.BayesPrior').css({\"background\":\"white\", \"color\":\"black\"});\n",
    "});\n",
    "$('.BayesMarg').hover(\n",
    "  function(){\n",
    "        $('.BayesMarg').css({\"background\":\"white\", \"color\":\"#ff7b00\"});\n",
    "  },function(){\n",
    "        $('.BayesMarg').css({\"background\":\"white\", \"color\":\"black\"});\n",
    "});\n",
    "</script>\n",
    "<table  style=\"margin-left: auto; margin-right: auto;font-size:16px\">\n",
    "    <tr style=\"background-color:white;\">\n",
    "        <td rowspan = 2 class=\"BayesPost\">$$p(f, f^*|y)$$</td>\n",
    "        <td rowspan = 2 >$$=$$</td>\n",
    "        <td style = \"border-bottom: 1px solid #000;padding: 0px 7px;\" class=\"BayesLike\">$$p(y|f)$$</td>\n",
    "        <td style = \"border-bottom: 1px solid #000;padding: 0px 7px;\" class=\"BayesPrior\">$$p(f, f^*)$$</td>\n",
    "    </tr>\n",
    "    <tr style=\"background-color:white;\">\n",
    "        <td colspan = 2 class=\"BayesMarg\">$$\\qquad p(y)$$</td>\n",
    "    </tr>\n",
    "</table>''')"
   ]
  },
  {
   "cell_type": "markdown",
   "metadata": {},
   "source": [
    "**The Prior (Noiseless and Noisy)**"
   ]
  },
  {
   "cell_type": "code",
   "execution_count": 78,
   "metadata": {},
   "outputs": [
    {
     "data": {
      "text/html": [
       "\n",
       "<script>\n",
       "$('.a').hover(\n",
       "  function(){\n",
       "        $('.a').css({\"background\":\"blue\", \"color\":\"white\"});\n",
       "  },function(){\n",
       "        $('.a').css({\"background\":\"white\", \"color\":\"black\"});\n",
       "});\n",
       "$('.b').hover(\n",
       "  function(){\n",
       "        $('.b').css({\"background\":\"green\", \"color\":\"white\"});\n",
       "  },function(){\n",
       "        $('.b').css({\"background\":\"white\", \"color\":\"black\"});\n",
       "});\n",
       "$('.c').hover(\n",
       "  function(){\n",
       "        $('.c').css({\"background\":\"red\", \"color\":\"white\"});\n",
       "  },function(){\n",
       "        $('.c').css({\"background\":\"white\", \"color\":\"black\"});\n",
       "});\n",
       "$('.d').hover(\n",
       "  function(){\n",
       "        $('.d').css({\"background\":\"yellow\"});\n",
       "  },function(){\n",
       "        $('.d').css({\"background\":\"white\"});\n",
       "});\n",
       "$('.BayesPrior').hover(\n",
       "  function(){\n",
       "        $('.BayesPrior').css({\"background\":\"white\", \"color\":\"red\"});\n",
       "  },function(){\n",
       "        $('.BayesPrior').css({\"background\":\"white\", \"color\":\"black\"});\n",
       "});\n",
       "$('.ExactLike').hover(\n",
       "  function(){\n",
       "        $('.ExactLike').css({\"background\":\"#ebc7fc\"});\n",
       "  },function(){\n",
       "        $('.ExactLike').css({\"background\":\"white\"});\n",
       "});\n",
       "</script>\n",
       "<table style=\"margin-left: auto; margin-right: auto;\">\n",
       "    <tr>\n",
       "        <th colspan=\"7\" style=\"text-align: center;\">GP (Noiseless)</th>\n",
       "        <th colspan=\"2\" style=\"text-align: center;\">Approximation</th>\n",
       "    </tr>\n",
       "    <tr style=\"background-color:white;\">\n",
       "        <td rowspan = 2 class = \"BayesPrior\" >$$\\Bigg[ \\matrix{ f \\cr f^*} \\Bigg]$$</td>\n",
       "        <td rowspan = 2 >$$\\sim N \\Bigg($$</td>\n",
       "        <td >$$0$$</td>\n",
       "        <td rowspan = 2 style=\"font-size:15px\">,</td>\n",
       "        <td class = \"a\" >$$K(X,X)$$</td>\n",
       "        <td class = \"b\" >$$K(X,X^*)$$</td>\n",
       "        <td rowspan = 2 >$$\\Bigg)$$</td>\n",
       "        <td >Approximate</td>\n",
       "        <td class = \"BayesPrior\" >$p(f,f^*)$</td>\n",
       "    </tr>\n",
       "    <tr style=\"background-color:white;\">\n",
       "        <td >$$0$$</td>\n",
       "        <td class = \"c\" >$$K(X^*,X)$$</td>\n",
       "        <td class = \"d\" >$$K(X^*,X^*)$$</td>\n",
       "        <td > With inducing prior</td>\n",
       "        <td class = \"BayesPrior\" >$q(f,f^*)$</td>\n",
       "    </tr>\n",
       "</table>\n",
       "<table style=\"margin-left: auto; margin-right: auto;\">\n",
       "    <tr>\n",
       "        <th colspan=\"7\" style=\"text-align: center;\">GP (Noisy)</th>\n",
       "        <th colspan=\"2\" style=\"text-align: center;\">Approximation</th>\n",
       "    </tr>\n",
       "    <tr style=\"background-color:white;\">\n",
       "        <td rowspan = 2 class = \"BayesPrior\" >$$\\Bigg[ \\matrix{ y \\cr f^*} \\Bigg]$$</td>\n",
       "        <td rowspan = 2 >$$\\sim N \\Bigg($$</td>\n",
       "        <td >$$0$$</td>\n",
       "        <td rowspan = 2 style=\"font-size:15px\">,</td>\n",
       "        <td class = \"ExactLike\" >$$K(X,X) + \\sigma_n^2 I$$</td>\n",
       "        <td class = \"b\" >$$K(X,X^*)$$</td>\n",
       "        <td rowspan = 2 >$$\\Bigg)$$</td>\n",
       "        <td >Exact likelihood</td>\n",
       "        <td class = \"ExactLike\" >$p(y | f)$</td>\n",
       "    </tr>\n",
       "    <tr style=\"background-color:white;\">\n",
       "        <td >$$0$$</td>\n",
       "        <td class = \"c\" >$$K(X^*,X)$$</td>\n",
       "        <td class = \"d\" >$$K(X^*,X^*)$$</td>\n",
       "        <td > With inducing prior</td>\n",
       "        <td class = \"BayesPrior\" >$q(y,f^*)$</td>\n",
       "    </tr>\n",
       "</table>"
      ],
      "text/plain": [
       "<IPython.core.display.HTML object>"
      ]
     },
     "execution_count": 78,
     "metadata": {},
     "output_type": "execute_result"
    }
   ],
   "source": [
    "#@hidden\n",
    "HTML('''\n",
    "<script>\n",
    "$('.a').hover(\n",
    "  function(){\n",
    "        $('.a').css({\"background\":\"blue\", \"color\":\"white\"});\n",
    "  },function(){\n",
    "        $('.a').css({\"background\":\"white\", \"color\":\"black\"});\n",
    "});\n",
    "$('.b').hover(\n",
    "  function(){\n",
    "        $('.b').css({\"background\":\"green\", \"color\":\"white\"});\n",
    "  },function(){\n",
    "        $('.b').css({\"background\":\"white\", \"color\":\"black\"});\n",
    "});\n",
    "$('.c').hover(\n",
    "  function(){\n",
    "        $('.c').css({\"background\":\"red\", \"color\":\"white\"});\n",
    "  },function(){\n",
    "        $('.c').css({\"background\":\"white\", \"color\":\"black\"});\n",
    "});\n",
    "$('.d').hover(\n",
    "  function(){\n",
    "        $('.d').css({\"background\":\"yellow\"});\n",
    "  },function(){\n",
    "        $('.d').css({\"background\":\"white\"});\n",
    "});\n",
    "$('.BayesPrior').hover(\n",
    "  function(){\n",
    "        $('.BayesPrior').css({\"background\":\"white\", \"color\":\"red\"});\n",
    "  },function(){\n",
    "        $('.BayesPrior').css({\"background\":\"white\", \"color\":\"black\"});\n",
    "});\n",
    "$('.ExactLike').hover(\n",
    "  function(){\n",
    "        $('.ExactLike').css({\"background\":\"#ebc7fc\"});\n",
    "  },function(){\n",
    "        $('.ExactLike').css({\"background\":\"white\"});\n",
    "});\n",
    "</script>\n",
    "<table style=\"margin-left: auto; margin-right: auto;\">\n",
    "    <tr>\n",
    "        <th colspan=\"7\" style=\"text-align: center;\">GP (Noiseless)</th>\n",
    "        <th colspan=\"2\" style=\"text-align: center;\">Approximation</th>\n",
    "    </tr>\n",
    "    <tr style=\"background-color:white;\">\n",
    "        <td rowspan = 2 class = \"BayesPrior\" >$$\\Bigg[ \\matrix{ f \\cr f^*} \\Bigg]$$</td>\n",
    "        <td rowspan = 2 >$$\\sim N \\Bigg($$</td>\n",
    "        <td >$$0$$</td>\n",
    "        <td rowspan = 2 style=\"font-size:15px\">,</td>\n",
    "        <td class = \"a\" >$$K(X,X)$$</td>\n",
    "        <td class = \"b\" >$$K(X,X^*)$$</td>\n",
    "        <td rowspan = 2 >$$\\Bigg)$$</td>\n",
    "        <td >Approximate</td>\n",
    "        <td class = \"BayesPrior\" >$p(f,f^*)$</td>\n",
    "    </tr>\n",
    "    <tr style=\"background-color:white;\">\n",
    "        <td >$$0$$</td>\n",
    "        <td class = \"c\" >$$K(X^*,X)$$</td>\n",
    "        <td class = \"d\" >$$K(X^*,X^*)$$</td>\n",
    "        <td > With inducing prior</td>\n",
    "        <td class = \"BayesPrior\" >$q(f,f^*)$</td>\n",
    "    </tr>\n",
    "</table>\n",
    "<table style=\"margin-left: auto; margin-right: auto;\">\n",
    "    <tr>\n",
    "        <th colspan=\"7\" style=\"text-align: center;\">GP (Noisy)</th>\n",
    "        <th colspan=\"2\" style=\"text-align: center;\">Approximation</th>\n",
    "    </tr>\n",
    "    <tr style=\"background-color:white;\">\n",
    "        <td rowspan = 2 class = \"BayesPrior\" >$$\\Bigg[ \\matrix{ y \\cr f^*} \\Bigg]$$</td>\n",
    "        <td rowspan = 2 >$$\\sim N \\Bigg($$</td>\n",
    "        <td >$$0$$</td>\n",
    "        <td rowspan = 2 style=\"font-size:15px\">,</td>\n",
    "        <td class = \"ExactLike\" >$$K(X,X) + \\sigma_n^2 I$$</td>\n",
    "        <td class = \"b\" >$$K(X,X^*)$$</td>\n",
    "        <td rowspan = 2 >$$\\Bigg)$$</td>\n",
    "        <td >Exact likelihood</td>\n",
    "        <td class = \"ExactLike\" >$p(y | f)$</td>\n",
    "    </tr>\n",
    "    <tr style=\"background-color:white;\">\n",
    "        <td >$$0$$</td>\n",
    "        <td class = \"c\" >$$K(X^*,X)$$</td>\n",
    "        <td class = \"d\" >$$K(X^*,X^*)$$</td>\n",
    "        <td > With inducing prior</td>\n",
    "        <td class = \"BayesPrior\" >$q(y,f^*)$</td>\n",
    "    </tr>\n",
    "</table>''')"
   ]
  },
  {
   "cell_type": "markdown",
   "metadata": {},
   "source": [
    "**Posterior Predictive Distribution** <br>\n",
    "We undertake exact inference by marginalising out the latent functions $f$ to find get the posterior predictive distirbution"
   ]
  },
  {
   "cell_type": "code",
   "execution_count": 59,
   "metadata": {},
   "outputs": [
    {
     "data": {
      "text/html": [
       "\n",
       "<script>\n",
       "$('.a').hover(\n",
       "  function(){\n",
       "        $('.a').css({\"background\":\"blue\", \"color\":\"white\"});\n",
       "  },function(){\n",
       "        $('.a').css({\"background\":\"white\", \"color\":\"black\"});\n",
       "});\n",
       "$('.b').hover(\n",
       "  function(){\n",
       "        $('.b').css({\"background\":\"green\", \"color\":\"white\"});\n",
       "  },function(){\n",
       "        $('.b').css({\"background\":\"white\", \"color\":\"black\"});\n",
       "});\n",
       "$('.c').hover(\n",
       "  function(){\n",
       "        $('.c').css({\"background\":\"red\", \"color\":\"white\"});\n",
       "  },function(){\n",
       "        $('.c').css({\"background\":\"white\", \"color\":\"black\"});\n",
       "});\n",
       "$('.d').hover(\n",
       "  function(){\n",
       "        $('.d').css({\"background\":\"yellow\"});\n",
       "  },function(){\n",
       "        $('.d').css({\"background\":\"white\"});\n",
       "});\n",
       "$('.e').hover(\n",
       "  function(){\n",
       "        $('.e').css({\"background\":\"#fcd4ff\"});\n",
       "  },function(){\n",
       "        $('.e').css({\"background\":\"white\"});\n",
       "});\n",
       "</script>\n",
       "<table style=\"margin-left: auto; margin-right: auto;>\n",
       "    <tr>\n",
       "        <th colspan=\"12\" style=\"text-align: center;\">Exact Posterior predictive distribution (Noiseless)</th>\n",
       "    </tr>\n",
       "    <tr style=\"background-color:white;\">\n",
       "        <td >$$P(f^*|f)$$</td>\n",
       "        <td >$$=N($$</td>\n",
       "        <td class = \"c\">$$A$$</td>\n",
       "        <td class = \"a\">$$C^{-1}$$</td>\n",
       "        <td >$$f$$</td>\n",
       "        <td style=\"font-size:15px\">,</td>\n",
       "        <td class = \"d\">$$D$$</td>\n",
       "        <td >$$-$$</td>\n",
       "        <td class = \"c\">$$A$$</td>\n",
       "        <td class = \"a\">$$C^{-1}$$</td>\n",
       "        <td class = \"b\">$$A^T$$</td>\n",
       "        <td >$$)$$</td>\n",
       "    </tr>\n",
       "</table>\n"
      ],
      "text/plain": [
       "<IPython.core.display.HTML object>"
      ]
     },
     "execution_count": 59,
     "metadata": {},
     "output_type": "execute_result"
    }
   ],
   "source": [
    "# @hidden\n",
    "HTML('''\n",
    "<script>\n",
    "$('.a').hover(\n",
    "  function(){\n",
    "        $('.a').css({\"background\":\"blue\", \"color\":\"white\"});\n",
    "  },function(){\n",
    "        $('.a').css({\"background\":\"white\", \"color\":\"black\"});\n",
    "});\n",
    "$('.b').hover(\n",
    "  function(){\n",
    "        $('.b').css({\"background\":\"green\", \"color\":\"white\"});\n",
    "  },function(){\n",
    "        $('.b').css({\"background\":\"white\", \"color\":\"black\"});\n",
    "});\n",
    "$('.c').hover(\n",
    "  function(){\n",
    "        $('.c').css({\"background\":\"red\", \"color\":\"white\"});\n",
    "  },function(){\n",
    "        $('.c').css({\"background\":\"white\", \"color\":\"black\"});\n",
    "});\n",
    "$('.d').hover(\n",
    "  function(){\n",
    "        $('.d').css({\"background\":\"yellow\"});\n",
    "  },function(){\n",
    "        $('.d').css({\"background\":\"white\"});\n",
    "});\n",
    "$('.e').hover(\n",
    "  function(){\n",
    "        $('.e').css({\"background\":\"#fcd4ff\"});\n",
    "  },function(){\n",
    "        $('.e').css({\"background\":\"white\"});\n",
    "});\n",
    "</script>\n",
    "<table style=\"margin-left: auto; margin-right: auto;>\n",
    "    <tr>\n",
    "        <th colspan=\"12\" style=\"text-align: center;\">Exact Posterior predictive distribution (Noiseless)</th>\n",
    "    </tr>\n",
    "    <tr style=\"background-color:white;\">\n",
    "        <td >$$P(f^*|f)$$</td>\n",
    "        <td >$$=N($$</td>\n",
    "        <td class = \"c\">$$A$$</td>\n",
    "        <td class = \"a\">$$C^{-1}$$</td>\n",
    "        <td >$$f$$</td>\n",
    "        <td style=\"font-size:15px\">,</td>\n",
    "        <td class = \"d\">$$D$$</td>\n",
    "        <td >$$-$$</td>\n",
    "        <td class = \"c\">$$A$$</td>\n",
    "        <td class = \"a\">$$C^{-1}$$</td>\n",
    "        <td class = \"b\">$$A^T$$</td>\n",
    "        <td >$$)$$</td>\n",
    "    </tr>\n",
    "</table>\n",
    "''')"
   ]
  },
  {
   "cell_type": "markdown",
   "metadata": {},
   "source": [
    "# Limitations"
   ]
  },
  {
   "cell_type": "markdown",
   "metadata": {},
   "source": []
  },
  {
   "cell_type": "markdown",
   "metadata": {},
   "source": [
    "# A New Unifying view"
   ]
  },
  {
   "cell_type": "markdown",
   "metadata": {},
   "source": [
    "Introduce latent inducing variables p(u)<br>\n",
    "Consistency of GPs recover prior by marginalizing out the latent variable u from the joint GP Prior P(f*, f, u) (show integral) "
   ]
  },
  {
   "cell_type": "markdown",
   "metadata": {},
   "source": [
    "## Inducing Conditionals\n"
   ]
  },
  {
   "cell_type": "markdown",
   "metadata": {},
   "source": [
    "P(f|u) <br>\n",
    "P(f*|u) <br>\n",
    "Only approximate above <br>\n",
    "Find the inducing prior (show the two graphical models and state assumption) <br>\n",
    "Use exact likelihood (show p(y|f))"
   ]
  },
  {
   "cell_type": "markdown",
   "metadata": {},
   "source": [
    "## Approximation methods\n"
   ]
  },
  {
   "cell_type": "markdown",
   "metadata": {},
   "source": [
    "Compare: <br>\n",
    "SoD <br>\n",
    "SoR <br>\n",
    "DTC <br>\n",
    "FITC <br>\n",
    "PITC <br>\n",
    "Detail the inducing conditionals, priors and complexity and whether it is GP"
   ]
  },
  {
   "cell_type": "markdown",
   "metadata": {},
   "source": [
    "Again detail the posterior predictive distribution"
   ]
  },
  {
   "cell_type": "markdown",
   "metadata": {},
   "source": [
    "Link to why complexity is lower (economical representaion of post)"
   ]
  },
  {
   "cell_type": "markdown",
   "metadata": {},
   "source": [
    "Some Examples from GPy"
   ]
  },
  {
   "cell_type": "markdown",
   "metadata": {},
   "source": [
    "## Transduction and Augmentation"
   ]
  },
  {
   "cell_type": "markdown",
   "metadata": {},
   "source": [
    "## Choice of Inducing Variables (optimisation)"
   ]
  },
  {
   "cell_type": "markdown",
   "metadata": {},
   "source": [
    "Maximise marginal likelihood with respect to inducing points (show the integral and log marginal likelihood) and table showing the delta of each approximation method"
   ]
  },
  {
   "cell_type": "markdown",
   "metadata": {},
   "source": [
    "## References and Useful Links"
   ]
  },
  {
   "cell_type": "markdown",
   "metadata": {},
   "source": []
  }
 ],
 "metadata": {
  "kernelspec": {
   "display_name": "Python 3",
   "language": "python",
   "name": "python3"
  },
  "language_info": {
   "codemirror_mode": {
    "name": "ipython",
    "version": 3
   },
   "file_extension": ".py",
   "mimetype": "text/x-python",
   "name": "python",
   "nbconvert_exporter": "python",
   "pygments_lexer": "ipython3",
   "version": "3.8.5"
  }
 },
 "nbformat": 4,
 "nbformat_minor": 4
}
